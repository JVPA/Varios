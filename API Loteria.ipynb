{
 "cells": [
  {
   "cell_type": "code",
   "execution_count": 1,
   "metadata": {},
   "outputs": [],
   "source": [
    "import pandas as pd\n",
    "import mysql.connector\n",
    "import json\n",
    "\n",
    "from urllib import request\n",
    "from telegramBot import runBot\n",
    "from time import sleep\n",
    "\n",
    "bot = runBot.bot()\n",
    "Url = 'https://api.elpais.com/ws/LoteriaNavidadPremiados?'"
   ]
  },
  {
   "cell_type": "code",
   "execution_count": 2,
   "metadata": {},
   "outputs": [
    {
     "data": {
      "text/html": [
       "<div>\n",
       "<style scoped>\n",
       "    .dataframe tbody tr th:only-of-type {\n",
       "        vertical-align: middle;\n",
       "    }\n",
       "\n",
       "    .dataframe tbody tr th {\n",
       "        vertical-align: top;\n",
       "    }\n",
       "\n",
       "    .dataframe thead th {\n",
       "        text-align: right;\n",
       "    }\n",
       "</style>\n",
       "<table border=\"1\" class=\"dataframe\">\n",
       "  <thead>\n",
       "    <tr style=\"text-align: right;\">\n",
       "      <th></th>\n",
       "      <th>Numero</th>\n",
       "      <th>Importe</th>\n",
       "      <th>Descripcion</th>\n",
       "    </tr>\n",
       "  </thead>\n",
       "  <tbody>\n",
       "    <tr>\n",
       "      <th>0</th>\n",
       "      <td>97228</td>\n",
       "      <td>20.0</td>\n",
       "      <td>TuLotero</td>\n",
       "    </tr>\n",
       "    <tr>\n",
       "      <th>1</th>\n",
       "      <td>95321</td>\n",
       "      <td>20.0</td>\n",
       "      <td>ThePowerMBA</td>\n",
       "    </tr>\n",
       "  </tbody>\n",
       "</table>\n",
       "</div>"
      ],
      "text/plain": [
       "   Numero  Importe  Descripcion\n",
       "0   97228     20.0     TuLotero\n",
       "1   95321     20.0  ThePowerMBA"
      ]
     },
     "execution_count": 2,
     "metadata": {},
     "output_type": "execute_result"
    }
   ],
   "source": [
    "EUR = \"€\"\n",
    "    \n",
    "def API(tipoConsulta = 's=1'):\n",
    "\n",
    "    return json.loads(request.urlopen(Url + tipoConsulta).read().decode('utf8').replace('info=', '').replace('busqueda=', ''))\n",
    "\n",
    "def estado_sorteo():\n",
    "    status = API()['status']  \n",
    "    estado = None\n",
    "    if status == 0:\n",
    "        estado = 'El sorteo no ha comenzado.'\n",
    "    elif status == 1:\n",
    "        estado = 'El sorteo ha empezado. Lista de premios parcial.'\n",
    "    elif status == 2:\n",
    "        estado = 'Sorteo terminado. Lista de premios provisional.'\n",
    "    elif status == 3:\n",
    "        estado = 'Sorteo terminado. Lista de premios semioficial.'\n",
    "    elif status == 4:\n",
    "        estado = 'Sorteo terminado. Lista de premios oficial.'\n",
    "    return estado \n",
    "    \n",
    "def consultar(n): \n",
    "    premio = float(API('n=' + n)['premio'])\n",
    "    return premio\n",
    "\n",
    "conn = mysql.connector.connect(user = 'user' \n",
    "                               , password = 'pass' \n",
    "                               , host = 'host' \n",
    "                               , port = port \n",
    "                               , database = 'BbDd')\n",
    "\n",
    "SqlStr = 'Select Numero, Importe, Descripcion from tabla where Anyo = (select max(Anyo) from tabla);'\n",
    "df = pd.read_sql(SqlStr, conn)\n",
    "\n",
    "df.head(2)"
   ]
  },
  {
   "cell_type": "code",
   "execution_count": 3,
   "metadata": {},
   "outputs": [
    {
     "name": "stdout",
     "output_type": "stream",
     "text": [
      "Sorteo terminado. Lista de premios oficial.\n"
     ]
    }
   ],
   "source": [
    "print(estado_sorteo())"
   ]
  },
  {
   "cell_type": "code",
   "execution_count": 6,
   "metadata": {},
   "outputs": [
    {
     "name": "stdout",
     "output_type": "stream",
     "text": [
      "Número: 97228\t·\tJugado:  20.00 €\t·\tGanado:       0.00 €\t·\tTuLotero\n",
      "Número: 95321\t·\tJugado:  20.00 €\t·\tGanado:       0.00 €\t·\tThePowerMBA\n",
      "Número: 85046\t·\tJugado:  10.88 €\t·\tGanado:       0.00 €\t·\tVodafone\n",
      "Número: 53778\t·\tJugado:   4.00 €\t·\tGanado:       0.00 €\t·\tDepartamento\n",
      "Número: 60384\t·\tJugado:  20.00 €\t·\tGanado:       0.00 €\t·\tONO\n",
      "Número: 56252\t·\tJugado:  20.00 €\t·\tGanado:       0.00 €\t·\tCancio\n",
      "Número: 58895\t·\tJugado:  20.00 €\t·\tGanado:       0.00 €\t·\tMichelin\n",
      "Número: 96976\t·\tJugado:  20.00 €\t·\tGanado:       0.00 €\t·\tEl Carmen\n",
      "Número: 67150\t·\tJugado:  20.00 €\t·\tGanado:     120.00 €\t·\tCortecam\n",
      "Número: 08364\t·\tJugado:  10.00 €\t·\tGanado:       0.00 €\t·\tResidencia Anselma\n",
      "Número: 04671\t·\tJugado:  10.00 €\t·\tGanado:       0.00 €\t·\tMadrid\n",
      "Número: 34230\t·\tJugado:  20.00 €\t·\tGanado:      20.00 €\t·\tRegalo Pedro\n",
      "Número: 34034\t·\tJugado:  20.00 €\t·\tGanado:       0.00 €\t·\tRegalo Mama\n",
      "Número: 99182\t·\tJugado:   2.00 €\t·\tGanado:       0.00 €\t·\tKarate\n",
      "Número: 24345\t·\tJugado:  10.00 €\t·\tGanado:       0.00 €\t·\tMarvá\n",
      "Número: 29537\t·\tJugado:  10.00 €\t·\tGanado:       0.00 €\t·\tAgustinos\n",
      "Número: 54935\t·\tJugado:   4.00 €\t·\tGanado:       0.00 €\t·\tAntiguos alumnos\n",
      "Número: 49523\t·\tJugado:   4.00 €\t·\tGanado:       0.00 €\t·\tCristo Rey\n",
      "Número: 95417\t·\tJugado:   4.00 €\t·\tGanado:       0.00 €\t·\tONG Agustinos\n",
      "Número: 15491\t·\tJugado:   2.40 €\t·\tGanado:       0.00 €\t·\tFarmacia Laura\n",
      "Número: 77806\t·\tJugado:   4.00 €\t·\tGanado:       0.00 €\t·\tFarmacia Laura\n",
      "Número: 29670\t·\tJugado:   4.00 €\t·\tGanado:       4.00 €\t·\tFalla Natalia\n",
      "Número: 16829\t·\tJugado:  10.00 €\t·\tGanado:       0.00 €\t·\tEl Graner\n",
      "Número: 54613\t·\tJugado:   8.00 €\t·\tGanado:       0.00 €\t·\tEl Perelló\n"
     ]
    }
   ],
   "source": [
    "informado, estado = 0, ''\n",
    "\n",
    "while estado !='Sorteo terminado. Lista de premios oficial.':\n",
    "    total_ganado = 0.0\n",
    "    total_jugado = 0.0\n",
    "\n",
    "    for i in range(len(df)):    \n",
    "        ganado_decimo = consultar(str(df.Numero[i]))\n",
    "        he_ganado = df.Importe[i] * ganado_decimo / 20\n",
    "        total_ganado += he_ganado\n",
    "        total_jugado += df.Importe[i]\n",
    "        print(\n",
    "            'Número: ' + '{0:05d}'.format(df.Numero[i]),\n",
    "            'Jugado: ' + '{0:6.2f}'.format(df.Importe[i]) + \" \" + EUR,\n",
    "            'Ganado: ' + '{0:10.2f}'.format(he_ganado) + \" \" + EUR,\n",
    "            df.Descripcion[i],\n",
    "            sep = '\\t·\\t',\n",
    "        )\n",
    "    estado = estado_sorteo()\n",
    "\n",
    "    texto = estado + '\\n'\n",
    "    texto += '\\nTotal Jugado:  <b>' + '{0:10.2f}</b>'.format(total_jugado) + EUR\n",
    "    texto += '\\nTotal Ganado:  <b>' + '{0:10.2f}</b>'.format(total_ganado) + EUR\n",
    "    texto += '\\nSaldo:              <b>' + '{0:10.2f}</b>'.format(total_ganado - total_jugado) + EUR\n",
    "\n",
    "    if informado < total_ganado:\n",
    "        bot.send(texto)\n",
    "        informado = total_ganado\n",
    "        \n",
    "    sleep(60)\n",
    "        \n",
    "bot.send(texto)\n"
   ]
  },
  {
   "cell_type": "code",
   "execution_count": 5,
   "metadata": {},
   "outputs": [
    {
     "data": {
      "text/plain": [
       "120.0"
      ]
     },
     "execution_count": 5,
     "metadata": {},
     "output_type": "execute_result"
    }
   ],
   "source": [
    "consultar('83000')"
   ]
  }
 ],
 "metadata": {
  "kernelspec": {
   "display_name": "Python 3",
   "language": "python",
   "name": "python3"
  },
  "language_info": {
   "codemirror_mode": {
    "name": "ipython",
    "version": 3
   },
   "file_extension": ".py",
   "mimetype": "text/x-python",
   "name": "python",
   "nbconvert_exporter": "python",
   "pygments_lexer": "ipython3",
   "version": "3.7.2"
  }
 },
 "nbformat": 4,
 "nbformat_minor": 2
}
