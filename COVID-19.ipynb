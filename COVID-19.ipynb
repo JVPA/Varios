{
 "cells": [
  {
   "cell_type": "markdown",
   "metadata": {},
   "source": [
    "* Librerias:"
   ]
  },
  {
   "cell_type": "code",
   "execution_count": 1,
   "metadata": {},
   "outputs": [
    {
     "data": {
      "text/plain": [
       "'en_US.UTF-8'"
      ]
     },
     "execution_count": 1,
     "metadata": {},
     "output_type": "execute_result"
    }
   ],
   "source": [
    "import pandas as pd\n",
    "import matplotlib.dates as mdates\n",
    "import matplotlib.pyplot as plt\n",
    "\n",
    "import locale\n",
    "locale.setlocale(locale.LC_ALL, 'en_US.UTF-8')"
   ]
  },
  {
   "cell_type": "markdown",
   "metadata": {},
   "source": [
    "* Funciones:\n",
    "    - CrearGrafico, Creación del gráfico final.\n",
    "    - getDatos, obtención de los datos del repo de GitHub CSSEGISandData.\n",
    "    - getInfo, recuperar los valores de última importación y número de casos del DataFrame."
   ]
  },
  {
   "cell_type": "code",
   "execution_count": 2,
   "metadata": {},
   "outputs": [],
   "source": [
    "def CrearGrafico(df, Titulo):\n",
    "    Ultima_Importacion = df['Fecha'][-1:].max()\n",
    "        \n",
    "    df.set_index('Fecha', inplace = True)\n",
    "    Grafico = df.plot(kind = 'line'\n",
    "                      , linestyle='-'\n",
    "                      , linewidth = 2.0\n",
    "                      , color=['grey','green','red']\n",
    "                      , figsize = (14.36 / 1.5, 7.09 / 1.5))\n",
    "    \n",
    "    Grafico.tick_params(left = False, bottom = False)\n",
    "    Grafico.grid(axis = 'y', alpha=0.25)\n",
    "    Grafico.fmt_xdata = mdates.DateFormatter('%m')\n",
    "    Grafico.legend(loc = 'upper center'\n",
    "               , bbox_to_anchor = (0.5, 1.15)\n",
    "               , ncol = 3\n",
    "               , fancybox = False\n",
    "               , shadow = True\n",
    "               , fontsize = 12)\n",
    "    \n",
    "    Grafico.text(len(df) * 0.3\n",
    "                 , df[-1:]['Contagios'].sum() * 0.92\n",
    "                 , 'Tasa de mortalidad:  {:.2f}% '.format(- df[-1:]['Muertes'].sum() / (df[-1:]['Altas'].sum() - df[-1:]['Muertes'].sum()) * 100)\n",
    "                 , fontsize = 12\n",
    "                 , bbox = dict(facecolor='none'\n",
    "                               , edgecolor='none'\n",
    "                               , boxstyle='square'\n",
    "                               , pad = 1))\n",
    "\n",
    "    [spine.set_visible(False) for spine in plt.gca().spines.values()]\n",
    "    plt.gca().set_yticklabels([str(locale.format_string('%.0f',x , True)).replace(',','.') for x in plt.gca().get_yticks()])\n",
    "    plt.gca().set_ylabel(str(locale.format_string('%.0f', df[-1:]['Contagios'].sum(), True)).replace(',','.') + ' - ' + Titulo \n",
    "                         , color = '#909090'\n",
    "                         , fontsize = 15)\n",
    "\n",
    "    plt.gca().set_xlabel('* Datos actualizados a: ' + Ultima_Importacion\n",
    "                         , color = '#909090'\n",
    "                         , x = 0.85\n",
    "                         , fontsize = 10)\n",
    "    \n",
    "    plt.xticks(rotation = 0)\n",
    "    plt.show()\n",
    "    plt.close()\n",
    "    \n",
    "    return Grafico"
   ]
  },
  {
   "cell_type": "code",
   "execution_count": 3,
   "metadata": {},
   "outputs": [],
   "source": [
    "def getDatos(param):\n",
    "    Url = 'https://raw.githubusercontent.com/CSSEGISandData/COVID-19/master/csse_covid_19_data/csse_covid_19_time_series/' + param['Tabla'] + '.csv'\n",
    "\n",
    "    df = (pd.read_csv(Url, sep = ',', header = 0)\n",
    "          .drop(['Province/State','Lat','Long'], axis='columns')\n",
    "          .rename(columns = {'Country/Region':'Pais'}))\n",
    "\n",
    "    df = (df[(df['Pais'] == 'Spain')]\n",
    "          .set_index('Pais')\n",
    "          .transpose()\n",
    "          .reset_index()\n",
    "          .rename(columns = {'Spain':param['Campo'],'index':'Fecha'}))\n",
    "\n",
    "    df = df[(df['Fecha'] > '2/29/20')]\n",
    "    df['Fecha'] =  pd.to_datetime(df['Fecha'], format = '%m/%d/%y').dt.strftime('%d-%b')\n",
    "    \n",
    "    return df"
   ]
  },
  {
   "cell_type": "markdown",
   "metadata": {},
   "source": [
    "### Obtención de datos y creación de gráfico"
   ]
  },
  {
   "cell_type": "code",
   "execution_count": 4,
   "metadata": {},
   "outputs": [
    {
     "data": {
      "image/png": "[encoded data removed]",
      "text/plain": [
       "<Figure size 689.28x340.32 with 1 Axes>"
      ]
     },
     "metadata": {
      "needs_background": "light"
     },
     "output_type": "display_data"
    },
    {
     "data": {
      "text/plain": [
       "<matplotlib.axes._subplots.AxesSubplot at 0x107294208>"
      ]
     },
     "execution_count": 4,
     "metadata": {},
     "output_type": "execute_result"
    }
   ],
   "source": [
    "query = [{'Tabla':'time_series_19-covid-Confirmed'\n",
    "         ,'Campo':'Contagios'}\n",
    "        ,{'Tabla':'time_series_19-covid-Recovered'\n",
    "         ,'Campo':'Altas'}\n",
    "        ,{'Tabla':'time_series_19-covid-Deaths'\n",
    "         ,'Campo':'Muertes'}] \n",
    "\n",
    "df = getDatos(query[0])\n",
    "for i in range(len(query) - 1): \n",
    "    df = pd.merge(df, getDatos(query[i + 1]), on='Fecha')\n",
    "    \n",
    "df.loc[df['Fecha'] == '12-Mar', query[0]['Campo']] = 3680\n",
    "df.loc[df['Fecha'] == '12-Mar', query[1]['Campo']] = 189\n",
    "df.loc[df['Fecha'] == '12-Mar', query[2]['Campo']] = 89\n",
    "\n",
    "df.Muertes *= -1\n",
    "CrearGrafico(df, 'COVID-19')"
   ]
  }
 ],
 "metadata": {
  "kernelspec": {
   "display_name": "Python 3",
   "language": "python",
   "name": "python3"
  },
  "language_info": {
   "codemirror_mode": {
    "name": "ipython",
    "version": 3
   },
   "file_extension": ".py",
   "mimetype": "text/x-python",
   "name": "python",
   "nbconvert_exporter": "python",
   "pygments_lexer": "ipython3",
   "version": "3.7.2"
  },
  "varInspector": {
   "cols": {
    "lenName": 16,
    "lenType": 16,
    "lenVar": 40
   },
   "kernels_config": {
    "python": {
     "delete_cmd_postfix": "",
     "delete_cmd_prefix": "del ",
     "library": "var_list.py",
     "varRefreshCmd": "print(var_dic_list())"
    },
    "r": {
     "delete_cmd_postfix": ") ",
     "delete_cmd_prefix": "rm(",
     "library": "var_list.r",
     "varRefreshCmd": "cat(var_dic_list()) "
    }
   },
   "types_to_exclude": [
    "module",
    "function",
    "builtin_function_or_method",
    "instance",
    "_Feature"
   ],
   "window_display": false
  }
 },
 "nbformat": 4,
 "nbformat_minor": 2
}
